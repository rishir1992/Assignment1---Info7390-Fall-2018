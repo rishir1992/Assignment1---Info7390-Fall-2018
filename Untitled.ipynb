{
 "cells": [
  {
   "cell_type": "code",
   "execution_count": 4,
   "metadata": {},
   "outputs": [],
   "source": [
    "import pandas as pd\n",
    "allCik = pd.read_csv(\"ALL_CIK.csv\", low_memory= False)\n",
    "\n",
    "#function to check if entered CIK is valid\n",
    "\n",
    "def CheckandAcceptCIK():\n",
    "    flag = False\n",
    "    num= float(input(\"Please enter your CIK number: \"))\n",
    "    \n",
    "    for i in allCik[\"CIK\"]:\n",
    "        if (num == i):\n",
    "            flag = True \n",
    "            \n",
    "    if(flag == False):\n",
    "        print(\"CIK is wrong\")\n",
    "        CheckandAcceptCIK()\n",
    "    else:\n",
    "        result_string = str(num)\n",
    "        return result_string[0: (len(result_string) -2 )]\n",
    "    \n",
    "  #function to add leading zeroes  \n",
    "    def calc_cik(cik):\n",
    "    length_cik = len(cik)\n",
    "    final_length = 10 - length_cik\n",
    "    i=0\n",
    "    while i < final_length:\n",
    "        cik ='0' + cik\n",
    "        i= i+1\n",
    "        \n",
    "    return cik\n",
    "\n",
    "#function to calculate financial year part of link\n",
    "\n",
    "def calc_year():\n",
    "    year = int(input(\"Enter the Financial year in 20XX format (current or lesser): \"))\n",
    "    import datetime\n",
    "    now = datetime.datetime.now()\n",
    "    if (year < 1990 or year> now.year):\n",
    "        print('Please Enter your year as mentioned earlier')\n",
    "        calc_year()\n",
    "    else:\n",
    "        year_str = str(year)\n",
    "        return year_str[-2:]\n"
   ]
  },
  {
   "cell_type": "code",
   "execution_count": 6,
   "metadata": {},
   "outputs": [
    {
     "name": "stdout",
     "output_type": "stream",
     "text": [
      "Please enter your CIK number: 51143\n",
      "Enter the Financial year in 20XX format (current or lesser): 2013\n"
     ]
    },
    {
     "data": {
      "text/plain": [
       "'https://www.sec.gov/Archives/edgar/data/51143/0000051143/0000051143-13-000007-index.htm'"
      ]
     },
     "execution_count": 6,
     "metadata": {},
     "output_type": "execute_result"
    }
   ],
   "source": [
    "cik = CheckandAcceptCIK()\n",
    "zero_cik = calc_cik(cik)\n",
    "year = calc_year()\n",
    "website = \"https://www.sec.gov/Archives/edgar/data/\" + cik+\"/\" + zero_cik +\"/\" + zero_cik+ \"-\" + year +\"-000007-index.htm\"\n",
    "website"
   ]
  }
 ],
 "metadata": {
  "kernelspec": {
   "display_name": "Python 3",
   "language": "python",
   "name": "python3"
  },
  "language_info": {
   "codemirror_mode": {
    "name": "ipython",
    "version": 3
   },
   "file_extension": ".py",
   "mimetype": "text/x-python",
   "name": "python",
   "nbconvert_exporter": "python",
   "pygments_lexer": "ipython3",
   "version": "3.6.4"
  }
 },
 "nbformat": 4,
 "nbformat_minor": 2
}
